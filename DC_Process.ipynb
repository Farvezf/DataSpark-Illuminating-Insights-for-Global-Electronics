{
 "cells": [
  {
   "cell_type": "code",
   "execution_count": 21,
   "id": "741b337c-774d-465c-91b7-ac3adda87196",
   "metadata": {},
   "outputs": [
    {
     "data": {
      "text/html": [
       "<div>\n",
       "<style scoped>\n",
       "    .dataframe tbody tr th:only-of-type {\n",
       "        vertical-align: middle;\n",
       "    }\n",
       "\n",
       "    .dataframe tbody tr th {\n",
       "        vertical-align: top;\n",
       "    }\n",
       "\n",
       "    .dataframe thead th {\n",
       "        text-align: right;\n",
       "    }\n",
       "</style>\n",
       "<table border=\"1\" class=\"dataframe\">\n",
       "  <thead>\n",
       "    <tr style=\"text-align: right;\">\n",
       "      <th></th>\n",
       "      <th>CustomerKey</th>\n",
       "      <th>Gender</th>\n",
       "      <th>Name</th>\n",
       "      <th>City</th>\n",
       "      <th>State Code</th>\n",
       "      <th>State</th>\n",
       "      <th>Zip Code</th>\n",
       "      <th>Country</th>\n",
       "      <th>Continent</th>\n",
       "      <th>Birthday</th>\n",
       "    </tr>\n",
       "  </thead>\n",
       "  <tbody>\n",
       "    <tr>\n",
       "      <th>0</th>\n",
       "      <td>301</td>\n",
       "      <td>Female</td>\n",
       "      <td>Lilly Harding</td>\n",
       "      <td>WANDEARAH EAST</td>\n",
       "      <td>SA</td>\n",
       "      <td>South Australia</td>\n",
       "      <td>5523</td>\n",
       "      <td>Australia</td>\n",
       "      <td>Australia</td>\n",
       "      <td>7/3/1939</td>\n",
       "    </tr>\n",
       "    <tr>\n",
       "      <th>1</th>\n",
       "      <td>325</td>\n",
       "      <td>Female</td>\n",
       "      <td>Madison Hull</td>\n",
       "      <td>MOUNT BUDD</td>\n",
       "      <td>WA</td>\n",
       "      <td>Western Australia</td>\n",
       "      <td>6522</td>\n",
       "      <td>Australia</td>\n",
       "      <td>Australia</td>\n",
       "      <td>9/27/1979</td>\n",
       "    </tr>\n",
       "    <tr>\n",
       "      <th>2</th>\n",
       "      <td>554</td>\n",
       "      <td>Female</td>\n",
       "      <td>Claire Ferres</td>\n",
       "      <td>WINJALLOK</td>\n",
       "      <td>VIC</td>\n",
       "      <td>Victoria</td>\n",
       "      <td>3380</td>\n",
       "      <td>Australia</td>\n",
       "      <td>Australia</td>\n",
       "      <td>5/26/1947</td>\n",
       "    </tr>\n",
       "    <tr>\n",
       "      <th>3</th>\n",
       "      <td>786</td>\n",
       "      <td>Male</td>\n",
       "      <td>Jai Poltpalingada</td>\n",
       "      <td>MIDDLE RIVER</td>\n",
       "      <td>SA</td>\n",
       "      <td>South Australia</td>\n",
       "      <td>5223</td>\n",
       "      <td>Australia</td>\n",
       "      <td>Australia</td>\n",
       "      <td>9/17/1957</td>\n",
       "    </tr>\n",
       "    <tr>\n",
       "      <th>4</th>\n",
       "      <td>1042</td>\n",
       "      <td>Male</td>\n",
       "      <td>Aidan Pankhurst</td>\n",
       "      <td>TAWONGA SOUTH</td>\n",
       "      <td>VIC</td>\n",
       "      <td>Victoria</td>\n",
       "      <td>3698</td>\n",
       "      <td>Australia</td>\n",
       "      <td>Australia</td>\n",
       "      <td>11/19/1965</td>\n",
       "    </tr>\n",
       "  </tbody>\n",
       "</table>\n",
       "</div>"
      ],
      "text/plain": [
       "   CustomerKey  Gender               Name            City State Code  \\\n",
       "0          301  Female      Lilly Harding  WANDEARAH EAST         SA   \n",
       "1          325  Female       Madison Hull      MOUNT BUDD         WA   \n",
       "2          554  Female      Claire Ferres       WINJALLOK        VIC   \n",
       "3          786    Male  Jai Poltpalingada    MIDDLE RIVER         SA   \n",
       "4         1042    Male    Aidan Pankhurst   TAWONGA SOUTH        VIC   \n",
       "\n",
       "               State Zip Code    Country  Continent    Birthday  \n",
       "0    South Australia     5523  Australia  Australia    7/3/1939  \n",
       "1  Western Australia     6522  Australia  Australia   9/27/1979  \n",
       "2           Victoria     3380  Australia  Australia   5/26/1947  \n",
       "3    South Australia     5223  Australia  Australia   9/17/1957  \n",
       "4           Victoria     3698  Australia  Australia  11/19/1965  "
      ]
     },
     "execution_count": 21,
     "metadata": {},
     "output_type": "execute_result"
    }
   ],
   "source": [
    "# Customer table\n",
    "import pandas as pd\n",
    "path = r\"C:\\Users\\Admin\\Downloads\\Customers.csv\"\n",
    "customer = pd.read_csv(path, encoding='latin1')\n",
    "customer.head()"
   ]
  },
  {
   "cell_type": "code",
   "execution_count": 22,
   "id": "9760fed3-b589-441b-a7d2-6e1be2abebec",
   "metadata": {},
   "outputs": [
    {
     "data": {
      "text/plain": [
       "CustomerKey     0\n",
       "Gender          0\n",
       "Name            0\n",
       "City            0\n",
       "State Code     10\n",
       "State           0\n",
       "Zip Code        0\n",
       "Country         0\n",
       "Continent       0\n",
       "Birthday        0\n",
       "dtype: int64"
      ]
     },
     "execution_count": 22,
     "metadata": {},
     "output_type": "execute_result"
    }
   ],
   "source": [
    "customer.isnull().sum()"
   ]
  },
  {
   "cell_type": "code",
   "execution_count": 23,
   "id": "76f1e2ed-b7d0-4aff-9ce7-8d6c7b539b7c",
   "metadata": {},
   "outputs": [
    {
     "data": {
      "text/html": [
       "<div>\n",
       "<style scoped>\n",
       "    .dataframe tbody tr th:only-of-type {\n",
       "        vertical-align: middle;\n",
       "    }\n",
       "\n",
       "    .dataframe tbody tr th {\n",
       "        vertical-align: top;\n",
       "    }\n",
       "\n",
       "    .dataframe thead th {\n",
       "        text-align: right;\n",
       "    }\n",
       "</style>\n",
       "<table border=\"1\" class=\"dataframe\">\n",
       "  <thead>\n",
       "    <tr style=\"text-align: right;\">\n",
       "      <th></th>\n",
       "      <th>CustomerKey</th>\n",
       "      <th>Gender</th>\n",
       "      <th>Name</th>\n",
       "      <th>City</th>\n",
       "      <th>State Code</th>\n",
       "      <th>State</th>\n",
       "      <th>Zip Code</th>\n",
       "      <th>Country</th>\n",
       "      <th>Continent</th>\n",
       "      <th>Birthday</th>\n",
       "    </tr>\n",
       "  </thead>\n",
       "  <tbody>\n",
       "    <tr>\n",
       "      <th>5304</th>\n",
       "      <td>729681</td>\n",
       "      <td>Female</td>\n",
       "      <td>Rossana Padovesi</td>\n",
       "      <td>Polvica</td>\n",
       "      <td>NaN</td>\n",
       "      <td>Napoli</td>\n",
       "      <td>80035</td>\n",
       "      <td>Italy</td>\n",
       "      <td>Europe</td>\n",
       "      <td>4/18/1981</td>\n",
       "    </tr>\n",
       "    <tr>\n",
       "      <th>5316</th>\n",
       "      <td>732289</td>\n",
       "      <td>Male</td>\n",
       "      <td>Indro Piccio</td>\n",
       "      <td>Varcaturo</td>\n",
       "      <td>NaN</td>\n",
       "      <td>Napoli</td>\n",
       "      <td>80014</td>\n",
       "      <td>Italy</td>\n",
       "      <td>Europe</td>\n",
       "      <td>2/24/1949</td>\n",
       "    </tr>\n",
       "    <tr>\n",
       "      <th>5372</th>\n",
       "      <td>742042</td>\n",
       "      <td>Male</td>\n",
       "      <td>Amaranto Loggia</td>\n",
       "      <td>Casaferro</td>\n",
       "      <td>NaN</td>\n",
       "      <td>Napoli</td>\n",
       "      <td>80034</td>\n",
       "      <td>Italy</td>\n",
       "      <td>Europe</td>\n",
       "      <td>3/14/1936</td>\n",
       "    </tr>\n",
       "    <tr>\n",
       "      <th>5377</th>\n",
       "      <td>742886</td>\n",
       "      <td>Female</td>\n",
       "      <td>Edmonda Capon</td>\n",
       "      <td>Terzigno</td>\n",
       "      <td>NaN</td>\n",
       "      <td>Napoli</td>\n",
       "      <td>80040</td>\n",
       "      <td>Italy</td>\n",
       "      <td>Europe</td>\n",
       "      <td>8/6/1963</td>\n",
       "    </tr>\n",
       "    <tr>\n",
       "      <th>5378</th>\n",
       "      <td>743343</td>\n",
       "      <td>Female</td>\n",
       "      <td>Ambra Sagese</td>\n",
       "      <td>Pomigliano D'Arco</td>\n",
       "      <td>NaN</td>\n",
       "      <td>Napoli</td>\n",
       "      <td>80038</td>\n",
       "      <td>Italy</td>\n",
       "      <td>Europe</td>\n",
       "      <td>1/5/1961</td>\n",
       "    </tr>\n",
       "    <tr>\n",
       "      <th>5485</th>\n",
       "      <td>759705</td>\n",
       "      <td>Male</td>\n",
       "      <td>Callisto Lo Duca</td>\n",
       "      <td>Casilli</td>\n",
       "      <td>NaN</td>\n",
       "      <td>Napoli</td>\n",
       "      <td>80047</td>\n",
       "      <td>Italy</td>\n",
       "      <td>Europe</td>\n",
       "      <td>8/28/1976</td>\n",
       "    </tr>\n",
       "    <tr>\n",
       "      <th>5525</th>\n",
       "      <td>765589</td>\n",
       "      <td>Male</td>\n",
       "      <td>Michelino Lucchesi</td>\n",
       "      <td>Pompei Scavi</td>\n",
       "      <td>NaN</td>\n",
       "      <td>Napoli</td>\n",
       "      <td>80045</td>\n",
       "      <td>Italy</td>\n",
       "      <td>Europe</td>\n",
       "      <td>11/13/1947</td>\n",
       "    </tr>\n",
       "    <tr>\n",
       "      <th>5531</th>\n",
       "      <td>766410</td>\n",
       "      <td>Male</td>\n",
       "      <td>Adelmio Beneventi</td>\n",
       "      <td>Licola</td>\n",
       "      <td>NaN</td>\n",
       "      <td>Napoli</td>\n",
       "      <td>80078</td>\n",
       "      <td>Italy</td>\n",
       "      <td>Europe</td>\n",
       "      <td>1/13/1940</td>\n",
       "    </tr>\n",
       "    <tr>\n",
       "      <th>5631</th>\n",
       "      <td>781667</td>\n",
       "      <td>Female</td>\n",
       "      <td>Ilda Manna</td>\n",
       "      <td>Napoli</td>\n",
       "      <td>NaN</td>\n",
       "      <td>Napoli</td>\n",
       "      <td>80134</td>\n",
       "      <td>Italy</td>\n",
       "      <td>Europe</td>\n",
       "      <td>5/8/1977</td>\n",
       "    </tr>\n",
       "    <tr>\n",
       "      <th>5695</th>\n",
       "      <td>789177</td>\n",
       "      <td>Male</td>\n",
       "      <td>Calogero Folliero</td>\n",
       "      <td>Mariglianella</td>\n",
       "      <td>NaN</td>\n",
       "      <td>Napoli</td>\n",
       "      <td>80030</td>\n",
       "      <td>Italy</td>\n",
       "      <td>Europe</td>\n",
       "      <td>3/3/2000</td>\n",
       "    </tr>\n",
       "  </tbody>\n",
       "</table>\n",
       "</div>"
      ],
      "text/plain": [
       "      CustomerKey  Gender                Name               City State Code  \\\n",
       "5304       729681  Female    Rossana Padovesi            Polvica        NaN   \n",
       "5316       732289    Male        Indro Piccio          Varcaturo        NaN   \n",
       "5372       742042    Male     Amaranto Loggia          Casaferro        NaN   \n",
       "5377       742886  Female       Edmonda Capon           Terzigno        NaN   \n",
       "5378       743343  Female        Ambra Sagese  Pomigliano D'Arco        NaN   \n",
       "5485       759705    Male    Callisto Lo Duca            Casilli        NaN   \n",
       "5525       765589    Male  Michelino Lucchesi       Pompei Scavi        NaN   \n",
       "5531       766410    Male   Adelmio Beneventi             Licola        NaN   \n",
       "5631       781667  Female          Ilda Manna             Napoli        NaN   \n",
       "5695       789177    Male   Calogero Folliero      Mariglianella        NaN   \n",
       "\n",
       "       State Zip Code Country Continent    Birthday  \n",
       "5304  Napoli    80035   Italy    Europe   4/18/1981  \n",
       "5316  Napoli    80014   Italy    Europe   2/24/1949  \n",
       "5372  Napoli    80034   Italy    Europe   3/14/1936  \n",
       "5377  Napoli    80040   Italy    Europe    8/6/1963  \n",
       "5378  Napoli    80038   Italy    Europe    1/5/1961  \n",
       "5485  Napoli    80047   Italy    Europe   8/28/1976  \n",
       "5525  Napoli    80045   Italy    Europe  11/13/1947  \n",
       "5531  Napoli    80078   Italy    Europe   1/13/1940  \n",
       "5631  Napoli    80134   Italy    Europe    5/8/1977  \n",
       "5695  Napoli    80030   Italy    Europe    3/3/2000  "
      ]
     },
     "execution_count": 23,
     "metadata": {},
     "output_type": "execute_result"
    }
   ],
   "source": [
    "customer[customer[\"State Code\"].isnull()]"
   ]
  },
  {
   "cell_type": "code",
   "execution_count": 24,
   "id": "faea3696-0b15-422d-8fa6-4779cdc40dc1",
   "metadata": {},
   "outputs": [
    {
     "data": {
      "text/plain": [
       "CustomerKey    0\n",
       "Gender         0\n",
       "Name           0\n",
       "City           0\n",
       "State Code     0\n",
       "State          0\n",
       "Zip Code       0\n",
       "Country        0\n",
       "Continent      0\n",
       "Birthday       0\n",
       "dtype: int64"
      ]
     },
     "execution_count": 24,
     "metadata": {},
     "output_type": "execute_result"
    }
   ],
   "source": [
    "# I will replace the Statecode Napoli to NPL with the help of internet\n",
    "customer['State Code'] = customer['State Code'].fillna('NPL')\n",
    "customer.isnull().sum()"
   ]
  },
  {
   "cell_type": "code",
   "execution_count": 25,
   "id": "cb751976-9409-44d4-941f-cc5a12014783",
   "metadata": {},
   "outputs": [
    {
     "name": "stdout",
     "output_type": "stream",
     "text": [
      "<class 'pandas.core.frame.DataFrame'>\n",
      "RangeIndex: 15266 entries, 0 to 15265\n",
      "Data columns (total 10 columns):\n",
      " #   Column       Non-Null Count  Dtype \n",
      "---  ------       --------------  ----- \n",
      " 0   CustomerKey  15266 non-null  int64 \n",
      " 1   Gender       15266 non-null  object\n",
      " 2   Name         15266 non-null  object\n",
      " 3   City         15266 non-null  object\n",
      " 4   State Code   15266 non-null  object\n",
      " 5   State        15266 non-null  object\n",
      " 6   Zip Code     15266 non-null  object\n",
      " 7   Country      15266 non-null  object\n",
      " 8   Continent    15266 non-null  object\n",
      " 9   Birthday     15266 non-null  object\n",
      "dtypes: int64(1), object(9)\n",
      "memory usage: 1.2+ MB\n"
     ]
    }
   ],
   "source": [
    "customer.info()"
   ]
  },
  {
   "cell_type": "code",
   "execution_count": 27,
   "id": "40e7f272-c7e4-40d9-9548-71bfda5d9c4b",
   "metadata": {},
   "outputs": [],
   "source": [
    "# Now convert the datatype into python datatypes\n",
    "customer['Birthday'] = pd.to_datetime(customer['Birthday'])"
   ]
  },
  {
   "cell_type": "code",
   "execution_count": 28,
   "id": "ae73a1b8-a007-45bf-af5d-fac1bb8342d2",
   "metadata": {},
   "outputs": [],
   "source": [
    "# add one column named as age\n",
    "from datetime import datetime\n",
    "today = datetime.today()\n",
    "customer['age']=today.year-customer[\"Birthday\"].dt.year"
   ]
  },
  {
   "cell_type": "code",
   "execution_count": 11,
   "id": "f2adef71-02c1-46a4-9eb8-665f24351d2e",
   "metadata": {},
   "outputs": [
    {
     "data": {
      "text/html": [
       "<div>\n",
       "<style scoped>\n",
       "    .dataframe tbody tr th:only-of-type {\n",
       "        vertical-align: middle;\n",
       "    }\n",
       "\n",
       "    .dataframe tbody tr th {\n",
       "        vertical-align: top;\n",
       "    }\n",
       "\n",
       "    .dataframe thead th {\n",
       "        text-align: right;\n",
       "    }\n",
       "</style>\n",
       "<table border=\"1\" class=\"dataframe\">\n",
       "  <thead>\n",
       "    <tr style=\"text-align: right;\">\n",
       "      <th></th>\n",
       "      <th>CustomerKey</th>\n",
       "      <th>Gender</th>\n",
       "      <th>Name</th>\n",
       "      <th>City</th>\n",
       "      <th>State Code</th>\n",
       "      <th>State</th>\n",
       "      <th>Zip Code</th>\n",
       "      <th>Country</th>\n",
       "      <th>Continent</th>\n",
       "      <th>Birthday</th>\n",
       "      <th>age</th>\n",
       "    </tr>\n",
       "  </thead>\n",
       "  <tbody>\n",
       "    <tr>\n",
       "      <th>0</th>\n",
       "      <td>301</td>\n",
       "      <td>Female</td>\n",
       "      <td>Lilly Harding</td>\n",
       "      <td>WANDEARAH EAST</td>\n",
       "      <td>SA</td>\n",
       "      <td>South Australia</td>\n",
       "      <td>5523</td>\n",
       "      <td>Australia</td>\n",
       "      <td>Australia</td>\n",
       "      <td>1939-07-03</td>\n",
       "      <td>85</td>\n",
       "    </tr>\n",
       "    <tr>\n",
       "      <th>1</th>\n",
       "      <td>325</td>\n",
       "      <td>Female</td>\n",
       "      <td>Madison Hull</td>\n",
       "      <td>MOUNT BUDD</td>\n",
       "      <td>WA</td>\n",
       "      <td>Western Australia</td>\n",
       "      <td>6522</td>\n",
       "      <td>Australia</td>\n",
       "      <td>Australia</td>\n",
       "      <td>1979-09-27</td>\n",
       "      <td>45</td>\n",
       "    </tr>\n",
       "    <tr>\n",
       "      <th>2</th>\n",
       "      <td>554</td>\n",
       "      <td>Female</td>\n",
       "      <td>Claire Ferres</td>\n",
       "      <td>WINJALLOK</td>\n",
       "      <td>VIC</td>\n",
       "      <td>Victoria</td>\n",
       "      <td>3380</td>\n",
       "      <td>Australia</td>\n",
       "      <td>Australia</td>\n",
       "      <td>1947-05-26</td>\n",
       "      <td>77</td>\n",
       "    </tr>\n",
       "    <tr>\n",
       "      <th>3</th>\n",
       "      <td>786</td>\n",
       "      <td>Male</td>\n",
       "      <td>Jai Poltpalingada</td>\n",
       "      <td>MIDDLE RIVER</td>\n",
       "      <td>SA</td>\n",
       "      <td>South Australia</td>\n",
       "      <td>5223</td>\n",
       "      <td>Australia</td>\n",
       "      <td>Australia</td>\n",
       "      <td>1957-09-17</td>\n",
       "      <td>67</td>\n",
       "    </tr>\n",
       "    <tr>\n",
       "      <th>4</th>\n",
       "      <td>1042</td>\n",
       "      <td>Male</td>\n",
       "      <td>Aidan Pankhurst</td>\n",
       "      <td>TAWONGA SOUTH</td>\n",
       "      <td>VIC</td>\n",
       "      <td>Victoria</td>\n",
       "      <td>3698</td>\n",
       "      <td>Australia</td>\n",
       "      <td>Australia</td>\n",
       "      <td>1965-11-19</td>\n",
       "      <td>59</td>\n",
       "    </tr>\n",
       "  </tbody>\n",
       "</table>\n",
       "</div>"
      ],
      "text/plain": [
       "   CustomerKey  Gender               Name            City State Code  \\\n",
       "0          301  Female      Lilly Harding  WANDEARAH EAST         SA   \n",
       "1          325  Female       Madison Hull      MOUNT BUDD         WA   \n",
       "2          554  Female      Claire Ferres       WINJALLOK        VIC   \n",
       "3          786    Male  Jai Poltpalingada    MIDDLE RIVER         SA   \n",
       "4         1042    Male    Aidan Pankhurst   TAWONGA SOUTH        VIC   \n",
       "\n",
       "               State Zip Code    Country  Continent   Birthday  age  \n",
       "0    South Australia     5523  Australia  Australia 1939-07-03   85  \n",
       "1  Western Australia     6522  Australia  Australia 1979-09-27   45  \n",
       "2           Victoria     3380  Australia  Australia 1947-05-26   77  \n",
       "3    South Australia     5223  Australia  Australia 1957-09-17   67  \n",
       "4           Victoria     3698  Australia  Australia 1965-11-19   59  "
      ]
     },
     "execution_count": 11,
     "metadata": {},
     "output_type": "execute_result"
    }
   ],
   "source": [
    "customer.head()"
   ]
  },
  {
   "cell_type": "code",
   "execution_count": 29,
   "id": "47cfe3c7-bcd0-4010-b44e-bcfb378e6980",
   "metadata": {},
   "outputs": [
    {
     "data": {
      "text/plain": [
       "0"
      ]
     },
     "execution_count": 29,
     "metadata": {},
     "output_type": "execute_result"
    }
   ],
   "source": [
    "# check duplicate values\n",
    "customer.duplicated().sum()"
   ]
  },
  {
   "cell_type": "code",
   "execution_count": 30,
   "id": "43bc8716-a3c4-4795-86ee-e9d1e735aacf",
   "metadata": {},
   "outputs": [
    {
     "name": "stdout",
     "output_type": "stream",
     "text": [
      "<class 'pandas.core.frame.DataFrame'>\n",
      "RangeIndex: 15266 entries, 0 to 15265\n",
      "Data columns (total 11 columns):\n",
      " #   Column       Non-Null Count  Dtype         \n",
      "---  ------       --------------  -----         \n",
      " 0   CustomerKey  15266 non-null  int64         \n",
      " 1   Gender       15266 non-null  object        \n",
      " 2   Name         15266 non-null  object        \n",
      " 3   City         15266 non-null  object        \n",
      " 4   State Code   15266 non-null  object        \n",
      " 5   State        15266 non-null  object        \n",
      " 6   Zip Code     15266 non-null  int32         \n",
      " 7   Country      15266 non-null  object        \n",
      " 8   Continent    15266 non-null  object        \n",
      " 9   Birthday     15266 non-null  datetime64[ns]\n",
      " 10  age          15266 non-null  int32         \n",
      "dtypes: datetime64[ns](1), int32(2), int64(1), object(7)\n",
      "memory usage: 1.2+ MB\n"
     ]
    }
   ],
   "source": [
    "customer['Zip Code'] = pd.to_numeric(customer['Zip Code'], errors='coerce')\n",
    "customer['Zip Code'] = customer['Zip Code'].fillna(0).astype(int)\n",
    "customer.info()\n",
    "# Now all the columns are converted"
   ]
  },
  {
   "cell_type": "code",
   "execution_count": 31,
   "id": "fb524d65-ff00-4db6-b8a5-87f968c0db43",
   "metadata": {},
   "outputs": [],
   "source": [
    "# convert my cleaned data into dataframe\n",
    "customer=pd.DataFrame(customer)\n",
    "customer.to_csv(\"customers_table\",index=False)\n",
    "customers=pd.read_csv(\"customers_table\")\n"
   ]
  },
  {
   "cell_type": "code",
   "execution_count": 34,
   "id": "09338a17-7617-41ca-91ac-e3a3dd6ba4c0",
   "metadata": {},
   "outputs": [
    {
     "name": "stdout",
     "output_type": "stream",
     "text": [
      "<class 'pandas.core.frame.DataFrame'>\n",
      "RangeIndex: 15266 entries, 0 to 15265\n",
      "Data columns (total 11 columns):\n",
      " #   Column       Non-Null Count  Dtype         \n",
      "---  ------       --------------  -----         \n",
      " 0   CustomerKey  15266 non-null  int64         \n",
      " 1   Gender       15266 non-null  object        \n",
      " 2   Name         15266 non-null  object        \n",
      " 3   City         15266 non-null  object        \n",
      " 4   State Code   15266 non-null  object        \n",
      " 5   State        15266 non-null  object        \n",
      " 6   Zip Code     15266 non-null  int64         \n",
      " 7   Country      15266 non-null  object        \n",
      " 8   Continent    15266 non-null  object        \n",
      " 9   Birthday     15266 non-null  datetime64[ns]\n",
      " 10  age          15266 non-null  int64         \n",
      "dtypes: datetime64[ns](1), int64(3), object(7)\n",
      "memory usage: 1.3+ MB\n"
     ]
    }
   ],
   "source": [
    "customers.info()"
   ]
  },
  {
   "cell_type": "code",
   "execution_count": 33,
   "id": "3f5c3215-b9a3-450d-8f53-6dac1dff0e81",
   "metadata": {},
   "outputs": [],
   "source": [
    "customers['Birthday'] = pd.to_datetime(customers['Birthday'])"
   ]
  },
  {
   "cell_type": "code",
   "execution_count": 35,
   "id": "d2a2b088-24e6-423c-a43d-4a21746a836e",
   "metadata": {},
   "outputs": [
    {
     "data": {
      "text/plain": [
       "1"
      ]
     },
     "execution_count": 35,
     "metadata": {},
     "output_type": "execute_result"
    }
   ],
   "source": [
    "# connect my_SQL Process\n",
    "import pymysql\n",
    "myconnection=pymysql.connect(host=\"127.0.0.1\",user=\"root\",passwd=\"Farvez@12345\")\n",
    "myconnection.cursor().execute(\"create database Data_Spark\")"
   ]
  },
  {
   "cell_type": "code",
   "execution_count": 37,
   "id": "cf935da5-9195-4f6a-8360-5b1629e05f13",
   "metadata": {},
   "outputs": [
    {
     "name": "stdout",
     "output_type": "stream",
     "text": [
      "id INT AUTO_INCREMENT PRIMARY KEY,`CustomerKey` int,`Gender` text,`Name` text,`City` text,`State Code` text,`State` text,`Zip Code` int,`Country` text,`Continent` text,`Birthday` date,`age` int\n"
     ]
    },
    {
     "data": {
      "text/plain": [
       "0"
      ]
     },
     "execution_count": 37,
     "metadata": {},
     "output_type": "execute_result"
    }
   ],
   "source": [
    "a = \",\".join(f\"`{i}` {j}\"  # Enclose column names with backticks\n",
    "             for i, j in zip(customers.columns, customers.dtypes)\n",
    "             ).replace(\"object\", \"text\").replace(\"int64\", \"int\").replace(\"datetime64[ns]\",\"date\")\n",
    "a = \"id INT AUTO_INCREMENT PRIMARY KEY,\" + a\n",
    "\n",
    "# Print the generated SQL statement\n",
    "print(a)\n",
    "\n",
    "# Execute the SQL query to create the table\n",
    "myconnection.cursor().execute(f\"CREATE TABLE Data_Spark.Customers_table ({a})\")"
   ]
  },
  {
   "cell_type": "code",
   "execution_count": 40,
   "id": "f0b093b0-b899-41e6-96d4-d664ef55b6fd",
   "metadata": {},
   "outputs": [],
   "source": [
    "import pymysql\n",
    "\n",
    "# Establish the database connection\n",
    "myconnection = pymysql.connect(host=\"127.0.0.1\", user=\"root\", passwd=\"Farvez@12345\", database=\"Data_Spark\")\n",
    "\n",
    "# Create a cursor object\n",
    "cursor = myconnection.cursor()\n",
    "\n",
    "# Define the insert query\n",
    "insert_query = \"\"\"\n",
    "INSERT INTO Customers_table (`CustomerKey`, `Gender`, `Name`, `City`, `State Code`, `State`, `Zip Code`, `Country`, `Continent`, `Birthday`, `age`) \n",
    "VALUES (%s, %s, %s, %s, %s, %s, %s, %s, %s, %s, %s)\n",
    "\"\"\"\n",
    "\n",
    "# Iterate over the DataFrame and insert each row\n",
    "for index, row in customers.iterrows():\n",
    "     cursor.execute(insert_query, (row['CustomerKey'], row['Gender'], row['Name'], row['City'], row['State Code'], row['State'], \n",
    "                                   row['Zip Code'], row['Country'], row['Continent'], row['Birthday'], row['age']))\n",
    "# Commit the transaction\n",
    "myconnection.commit()\n",
    "\n",
    "# Close the cursor and connection\n",
    "cursor.close()\n",
    "myconnection.close()\n",
    "    "
   ]
  },
  {
   "cell_type": "code",
   "execution_count": 41,
   "id": "89e4180f-63dd-4c5a-9000-9b074ced0bcc",
   "metadata": {},
   "outputs": [
    {
     "data": {
      "text/plain": [
       "15266"
      ]
     },
     "execution_count": 41,
     "metadata": {},
     "output_type": "execute_result"
    }
   ],
   "source": [
    "len(customers)"
   ]
  },
  {
   "cell_type": "code",
   "execution_count": 95,
   "id": "b897b2d6-0eeb-412e-8fa5-cfa9af61d173",
   "metadata": {},
   "outputs": [
    {
     "data": {
      "text/html": [
       "<div>\n",
       "<style scoped>\n",
       "    .dataframe tbody tr th:only-of-type {\n",
       "        vertical-align: middle;\n",
       "    }\n",
       "\n",
       "    .dataframe tbody tr th {\n",
       "        vertical-align: top;\n",
       "    }\n",
       "\n",
       "    .dataframe thead th {\n",
       "        text-align: right;\n",
       "    }\n",
       "</style>\n",
       "<table border=\"1\" class=\"dataframe\">\n",
       "  <thead>\n",
       "    <tr style=\"text-align: right;\">\n",
       "      <th></th>\n",
       "      <th>Order Number</th>\n",
       "      <th>Line Item</th>\n",
       "      <th>Order Date</th>\n",
       "      <th>Delivery Date</th>\n",
       "      <th>CustomerKey</th>\n",
       "      <th>StoreKey</th>\n",
       "      <th>ProductKey</th>\n",
       "      <th>Quantity</th>\n",
       "      <th>Currency Code</th>\n",
       "    </tr>\n",
       "  </thead>\n",
       "  <tbody>\n",
       "    <tr>\n",
       "      <th>0</th>\n",
       "      <td>366000</td>\n",
       "      <td>1</td>\n",
       "      <td>1/1/2016</td>\n",
       "      <td>NaN</td>\n",
       "      <td>265598</td>\n",
       "      <td>10</td>\n",
       "      <td>1304</td>\n",
       "      <td>1</td>\n",
       "      <td>CAD</td>\n",
       "    </tr>\n",
       "    <tr>\n",
       "      <th>1</th>\n",
       "      <td>366001</td>\n",
       "      <td>1</td>\n",
       "      <td>1/1/2016</td>\n",
       "      <td>1/13/2016</td>\n",
       "      <td>1269051</td>\n",
       "      <td>0</td>\n",
       "      <td>1048</td>\n",
       "      <td>2</td>\n",
       "      <td>USD</td>\n",
       "    </tr>\n",
       "    <tr>\n",
       "      <th>2</th>\n",
       "      <td>366001</td>\n",
       "      <td>2</td>\n",
       "      <td>1/1/2016</td>\n",
       "      <td>1/13/2016</td>\n",
       "      <td>1269051</td>\n",
       "      <td>0</td>\n",
       "      <td>2007</td>\n",
       "      <td>1</td>\n",
       "      <td>USD</td>\n",
       "    </tr>\n",
       "    <tr>\n",
       "      <th>3</th>\n",
       "      <td>366002</td>\n",
       "      <td>1</td>\n",
       "      <td>1/1/2016</td>\n",
       "      <td>1/12/2016</td>\n",
       "      <td>266019</td>\n",
       "      <td>0</td>\n",
       "      <td>1106</td>\n",
       "      <td>7</td>\n",
       "      <td>CAD</td>\n",
       "    </tr>\n",
       "    <tr>\n",
       "      <th>4</th>\n",
       "      <td>366002</td>\n",
       "      <td>2</td>\n",
       "      <td>1/1/2016</td>\n",
       "      <td>1/12/2016</td>\n",
       "      <td>266019</td>\n",
       "      <td>0</td>\n",
       "      <td>373</td>\n",
       "      <td>1</td>\n",
       "      <td>CAD</td>\n",
       "    </tr>\n",
       "  </tbody>\n",
       "</table>\n",
       "</div>"
      ],
      "text/plain": [
       "   Order Number  Line Item Order Date Delivery Date  CustomerKey  StoreKey  \\\n",
       "0        366000          1   1/1/2016           NaN       265598        10   \n",
       "1        366001          1   1/1/2016     1/13/2016      1269051         0   \n",
       "2        366001          2   1/1/2016     1/13/2016      1269051         0   \n",
       "3        366002          1   1/1/2016     1/12/2016       266019         0   \n",
       "4        366002          2   1/1/2016     1/12/2016       266019         0   \n",
       "\n",
       "   ProductKey  Quantity Currency Code  \n",
       "0        1304         1           CAD  \n",
       "1        1048         2           USD  \n",
       "2        2007         1           USD  \n",
       "3        1106         7           CAD  \n",
       "4         373         1           CAD  "
      ]
     },
     "execution_count": 95,
     "metadata": {},
     "output_type": "execute_result"
    }
   ],
   "source": [
    "# Sales Table\n",
    "import pandas as pd\n",
    "path=r\"C:\\Users\\Admin\\Downloads\\Sales.csv\"\n",
    "Sales=pd.read_csv(path)\n",
    "Sales.head()"
   ]
  },
  {
   "cell_type": "code",
   "execution_count": 98,
   "id": "5072021e-7482-4441-b9ba-cfcd54f5fe7a",
   "metadata": {},
   "outputs": [
    {
     "data": {
      "text/plain": [
       "Index(['Order Number', 'Line Item', 'Order Date', 'CustomerKey', 'StoreKey',\n",
       "       'ProductKey', 'Quantity', 'Currency Code'],\n",
       "      dtype='object')"
      ]
     },
     "execution_count": 98,
     "metadata": {},
     "output_type": "execute_result"
    }
   ],
   "source": [
    "Sales.columns"
   ]
  },
  {
   "cell_type": "code",
   "execution_count": 5,
   "id": "b8546c31-e0a7-43dc-b5b3-7c4465134e04",
   "metadata": {},
   "outputs": [
    {
     "data": {
      "text/plain": [
       "Order Number         0\n",
       "Line Item            0\n",
       "Order Date           0\n",
       "Delivery Date    49719\n",
       "CustomerKey          0\n",
       "StoreKey             0\n",
       "ProductKey           0\n",
       "Quantity             0\n",
       "Currency Code        0\n",
       "dtype: int64"
      ]
     },
     "execution_count": 5,
     "metadata": {},
     "output_type": "execute_result"
    }
   ],
   "source": [
    "Sales.isnull().sum()"
   ]
  },
  {
   "cell_type": "code",
   "execution_count": 6,
   "id": "798fa5d3-b409-4c2a-8c09-cec6b3f315fc",
   "metadata": {},
   "outputs": [
    {
     "data": {
      "text/plain": [
       "62884"
      ]
     },
     "execution_count": 6,
     "metadata": {},
     "output_type": "execute_result"
    }
   ],
   "source": [
    "len(Sales)"
   ]
  },
  {
   "cell_type": "code",
   "execution_count": 7,
   "id": "7e21662c-dac5-4939-a213-41d3ba23df6e",
   "metadata": {},
   "outputs": [
    {
     "data": {
      "text/plain": [
       "0"
      ]
     },
     "execution_count": 7,
     "metadata": {},
     "output_type": "execute_result"
    }
   ],
   "source": [
    "Sales.duplicated().sum()"
   ]
  },
  {
   "cell_type": "code",
   "execution_count": 96,
   "id": "3cf389dd-8bb6-4859-bc04-4af14a6fca61",
   "metadata": {},
   "outputs": [],
   "source": [
    "Sales.drop([\"Delivery Date\"],axis=1,inplace=True)"
   ]
  },
  {
   "cell_type": "code",
   "execution_count": 9,
   "id": "7a420d56-4112-409a-9328-0756f7f590e1",
   "metadata": {},
   "outputs": [
    {
     "name": "stdout",
     "output_type": "stream",
     "text": [
      "<class 'pandas.core.frame.DataFrame'>\n",
      "RangeIndex: 62884 entries, 0 to 62883\n",
      "Data columns (total 8 columns):\n",
      " #   Column         Non-Null Count  Dtype \n",
      "---  ------         --------------  ----- \n",
      " 0   Order Number   62884 non-null  int64 \n",
      " 1   Line Item      62884 non-null  int64 \n",
      " 2   Order Date     62884 non-null  object\n",
      " 3   CustomerKey    62884 non-null  int64 \n",
      " 4   StoreKey       62884 non-null  int64 \n",
      " 5   ProductKey     62884 non-null  int64 \n",
      " 6   Quantity       62884 non-null  int64 \n",
      " 7   Currency Code  62884 non-null  object\n",
      "dtypes: int64(6), object(2)\n",
      "memory usage: 3.8+ MB\n"
     ]
    }
   ],
   "source": [
    "Sales.info()"
   ]
  },
  {
   "cell_type": "code",
   "execution_count": 10,
   "id": "ad58f78b-6f73-42ac-bd73-a040aa103dce",
   "metadata": {},
   "outputs": [
    {
     "name": "stdout",
     "output_type": "stream",
     "text": [
      "<class 'pandas.core.frame.DataFrame'>\n",
      "RangeIndex: 62884 entries, 0 to 62883\n",
      "Data columns (total 8 columns):\n",
      " #   Column         Non-Null Count  Dtype         \n",
      "---  ------         --------------  -----         \n",
      " 0   Order Number   62884 non-null  int64         \n",
      " 1   Line Item      62884 non-null  int64         \n",
      " 2   Order Date     62884 non-null  datetime64[ns]\n",
      " 3   CustomerKey    62884 non-null  int64         \n",
      " 4   StoreKey       62884 non-null  int64         \n",
      " 5   ProductKey     62884 non-null  int64         \n",
      " 6   Quantity       62884 non-null  int64         \n",
      " 7   Currency Code  62884 non-null  object        \n",
      "dtypes: datetime64[ns](1), int64(6), object(1)\n",
      "memory usage: 3.8+ MB\n"
     ]
    }
   ],
   "source": [
    "Sales['Order Date'] = pd.to_datetime(Sales['Order Date'])\n",
    "Sales.info()"
   ]
  },
  {
   "cell_type": "code",
   "execution_count": 11,
   "id": "37bb64f0-c92b-48c9-93d7-612ee3a15eea",
   "metadata": {},
   "outputs": [],
   "source": [
    "# convert my cleaned data into dataframe\n",
    "Sales=pd.DataFrame(Sales)\n",
    "Sales.to_csv(\"sales_table\",index=False)\n",
    "Sales=pd.read_csv(\"sales_table\")"
   ]
  },
  {
   "cell_type": "code",
   "execution_count": 76,
   "id": "a6fea3d2-d86a-4c8b-9ba3-8bc751587722",
   "metadata": {},
   "outputs": [
    {
     "name": "stdout",
     "output_type": "stream",
     "text": [
      "<class 'pandas.core.frame.DataFrame'>\n",
      "RangeIndex: 62884 entries, 0 to 62883\n",
      "Data columns (total 8 columns):\n",
      " #   Column         Non-Null Count  Dtype         \n",
      "---  ------         --------------  -----         \n",
      " 0   Order Number   62884 non-null  int64         \n",
      " 1   Line Item      62884 non-null  int64         \n",
      " 2   Order Date     62884 non-null  datetime64[ns]\n",
      " 3   CustomerKey    62884 non-null  int64         \n",
      " 4   StoreKey       62884 non-null  int64         \n",
      " 5   ProductKey     62884 non-null  int64         \n",
      " 6   Quantity       62884 non-null  int64         \n",
      " 7   Currency Code  62884 non-null  object        \n",
      "dtypes: datetime64[ns](1), int64(6), object(1)\n",
      "memory usage: 3.8+ MB\n"
     ]
    }
   ],
   "source": [
    "Sales.info()"
   ]
  },
  {
   "cell_type": "code",
   "execution_count": 70,
   "id": "a74a2e2c-9fb2-4dcc-8798-9f4d4a84293b",
   "metadata": {},
   "outputs": [
    {
     "data": {
      "text/html": [
       "<div>\n",
       "<style scoped>\n",
       "    .dataframe tbody tr th:only-of-type {\n",
       "        vertical-align: middle;\n",
       "    }\n",
       "\n",
       "    .dataframe tbody tr th {\n",
       "        vertical-align: top;\n",
       "    }\n",
       "\n",
       "    .dataframe thead th {\n",
       "        text-align: right;\n",
       "    }\n",
       "</style>\n",
       "<table border=\"1\" class=\"dataframe\">\n",
       "  <thead>\n",
       "    <tr style=\"text-align: right;\">\n",
       "      <th></th>\n",
       "      <th>Date</th>\n",
       "      <th>Currency</th>\n",
       "      <th>Exchange</th>\n",
       "    </tr>\n",
       "  </thead>\n",
       "  <tbody>\n",
       "    <tr>\n",
       "      <th>0</th>\n",
       "      <td>1/1/2015</td>\n",
       "      <td>USD</td>\n",
       "      <td>1.0000</td>\n",
       "    </tr>\n",
       "    <tr>\n",
       "      <th>1</th>\n",
       "      <td>1/1/2015</td>\n",
       "      <td>CAD</td>\n",
       "      <td>1.1583</td>\n",
       "    </tr>\n",
       "    <tr>\n",
       "      <th>2</th>\n",
       "      <td>1/1/2015</td>\n",
       "      <td>AUD</td>\n",
       "      <td>1.2214</td>\n",
       "    </tr>\n",
       "    <tr>\n",
       "      <th>3</th>\n",
       "      <td>1/1/2015</td>\n",
       "      <td>EUR</td>\n",
       "      <td>0.8237</td>\n",
       "    </tr>\n",
       "    <tr>\n",
       "      <th>4</th>\n",
       "      <td>1/1/2015</td>\n",
       "      <td>GBP</td>\n",
       "      <td>0.6415</td>\n",
       "    </tr>\n",
       "  </tbody>\n",
       "</table>\n",
       "</div>"
      ],
      "text/plain": [
       "       Date Currency  Exchange\n",
       "0  1/1/2015      USD    1.0000\n",
       "1  1/1/2015      CAD    1.1583\n",
       "2  1/1/2015      AUD    1.2214\n",
       "3  1/1/2015      EUR    0.8237\n",
       "4  1/1/2015      GBP    0.6415"
      ]
     },
     "execution_count": 70,
     "metadata": {},
     "output_type": "execute_result"
    }
   ],
   "source": [
    "exchange=r\"C:\\Users\\Admin\\Downloads\\Exchange_Rates.csv\"\n",
    "exchange=pd.read_csv(exchange)\n",
    "exchange.head()"
   ]
  },
  {
   "cell_type": "code",
   "execution_count": 92,
   "id": "4717d847-3ed6-4197-b035-9c5536c9b1f3",
   "metadata": {},
   "outputs": [
    {
     "name": "stdout",
     "output_type": "stream",
     "text": [
      "<class 'pandas.core.frame.DataFrame'>\n",
      "RangeIndex: 11215 entries, 0 to 11214\n",
      "Data columns (total 3 columns):\n",
      " #   Column    Non-Null Count  Dtype         \n",
      "---  ------    --------------  -----         \n",
      " 0   Date      11215 non-null  datetime64[ns]\n",
      " 1   Currency  11215 non-null  object        \n",
      " 2   Exchange  11215 non-null  float64       \n",
      "dtypes: datetime64[ns](1), float64(1), object(1)\n",
      "memory usage: 263.0+ KB\n"
     ]
    }
   ],
   "source": [
    "exchange['Date'] = pd.to_datetime(exchange['Date'])\n",
    "exchange.info()"
   ]
  },
  {
   "cell_type": "code",
   "execution_count": 90,
   "id": "2efe40fe-4540-4c81-8ef5-132b2d5c6e98",
   "metadata": {},
   "outputs": [],
   "source": [
    "exchange=pd.DataFrame(exchange)\n",
    "exchange.to_csv(\"exchange_table\",index=False)\n",
    "exchange=pd.read_csv(\"exchange_table\")"
   ]
  },
  {
   "cell_type": "code",
   "execution_count": 93,
   "id": "e2306f0a-e13d-45ce-963b-90852baaf975",
   "metadata": {},
   "outputs": [
    {
     "name": "stdout",
     "output_type": "stream",
     "text": [
      "<class 'pandas.core.frame.DataFrame'>\n",
      "RangeIndex: 11215 entries, 0 to 11214\n",
      "Data columns (total 3 columns):\n",
      " #   Column    Non-Null Count  Dtype         \n",
      "---  ------    --------------  -----         \n",
      " 0   Date      11215 non-null  datetime64[ns]\n",
      " 1   Currency  11215 non-null  object        \n",
      " 2   Exchange  11215 non-null  float64       \n",
      "dtypes: datetime64[ns](1), float64(1), object(1)\n",
      "memory usage: 263.0+ KB\n"
     ]
    }
   ],
   "source": [
    "exchange.info()"
   ]
  },
  {
   "cell_type": "code",
   "execution_count": 87,
   "id": "88074216-7426-4e25-b2b9-c78c783f6c85",
   "metadata": {},
   "outputs": [
    {
     "name": "stdout",
     "output_type": "stream",
     "text": [
      "id INT AUTO_INCREMENT PRIMARY KEY,`Date` date,`Currency` text,`Exchange` int\n"
     ]
    },
    {
     "data": {
      "text/plain": [
       "0"
      ]
     },
     "execution_count": 87,
     "metadata": {},
     "output_type": "execute_result"
    }
   ],
   "source": [
    "import pymysql\n",
    "myconnection=pymysql.connect(host=\"127.0.0.1\",user=\"root\",passwd=\"Farvez@12345\")\n",
    "e = \",\".join(f\"`{i}` {j}\"  # Enclose column names with backticks\n",
    "             for i, j in zip(exchange.columns, exchange.dtypes)\n",
    "             ).replace(\"float64\", \"int\").replace(\"object\", \"text\").replace(\"datetime64[ns]\",\"date\")\n",
    "e = \"id INT AUTO_INCREMENT PRIMARY KEY,\" + e\n",
    "\n",
    "# Print the generated SQL statement\n",
    "print(e)\n",
    "\n",
    "# Execute the SQL query to create the table\n",
    "myconnection.cursor().execute(f\"CREATE TABLE Data_Spark.exchange_table ({e})\")"
   ]
  },
  {
   "cell_type": "code",
   "execution_count": 94,
   "id": "3b5e927b-4b09-4f55-9b07-f82ca0d50d07",
   "metadata": {},
   "outputs": [],
   "source": [
    "import pymysql\n",
    "\n",
    "# Establish the database connection\n",
    "myconnection = pymysql.connect(host=\"127.0.0.1\", user=\"root\", passwd=\"Farvez@12345\", database=\"Data_Spark\")\n",
    "\n",
    "# Create a cursor object\n",
    "cursor = myconnection.cursor()\n",
    "\n",
    "# Define the insert query\n",
    "insert_query = \"\"\"\n",
    "INSERT INTO exchange_table (`Date`, `Currency`, `Exchange`) \n",
    "VALUES (%s, %s, %s)\n",
    "\"\"\"\n",
    "\n",
    "# Iterate over the DataFrame and insert each row\n",
    "for index, row in exchange.iterrows():\n",
    "     cursor.execute(insert_query, (row['Date'], row['Currency'], row['Exchange']))\n",
    "# Commit the transaction\n",
    "myconnection.commit()\n",
    "\n",
    "# Close the cursor and connection\n",
    "cursor.close()\n",
    "myconnection.close()\n",
    "    "
   ]
  },
  {
   "cell_type": "code",
   "execution_count": null,
   "id": "c19b2571-5e2f-4f09-a684-01043f84e6c5",
   "metadata": {},
   "outputs": [],
   "source": [
    "result_df = pd.merge(orders_df, exchange_df, left_on='Currency Code', right_on='Currency', how='left')"
   ]
  },
  {
   "cell_type": "code",
   "execution_count": 79,
   "id": "1ef8d642-ab43-49bb-969d-a78d16b15319",
   "metadata": {},
   "outputs": [
    {
     "name": "stdout",
     "output_type": "stream",
     "text": [
      "id INT AUTO_INCREMENT PRIMARY KEY,`Order Number` int,`Line Item` int,`Order Date` date,`CustomerKey` int,`StoreKey` int,`ProductKey` int,`Quantity` int,`Currency Code` text\n"
     ]
    },
    {
     "data": {
      "text/plain": [
       "0"
      ]
     },
     "execution_count": 79,
     "metadata": {},
     "output_type": "execute_result"
    }
   ],
   "source": [
    "import pymysql\n",
    "myconnection=pymysql.connect(host=\"127.0.0.1\",user=\"root\",passwd=\"Farvez@12345\")\n",
    "b = \",\".join(f\"`{i}` {j}\"  # Enclose column names with backticks\n",
    "             for i, j in zip(Sales.columns, Sales.dtypes)\n",
    "             ).replace(\"object\", \"text\").replace(\"int64\", \"int\").replace(\"datetime64[ns]\",\"date\")\n",
    "b = \"id INT AUTO_INCREMENT PRIMARY KEY,\" + b\n",
    "\n",
    "# Print the generated SQL statement\n",
    "print(b)\n",
    "\n",
    "# Execute the SQL query to create the table\n",
    "myconnection.cursor().execute(f\"CREATE TABLE Data_Spark.sales_table ({b})\")"
   ]
  },
  {
   "cell_type": "code",
   "execution_count": 14,
   "id": "2630ad14-fadf-4315-aa02-646e71058ed0",
   "metadata": {},
   "outputs": [],
   "source": [
    "import pymysql\n",
    "\n",
    "# Establish the database connection\n",
    "myconnection = pymysql.connect(host=\"127.0.0.1\", user=\"root\", passwd=\"Farvez@12345\", database=\"Data_Spark\")\n",
    "\n",
    "# Create a cursor object\n",
    "cursor = myconnection.cursor()\n",
    "\n",
    "# Define the insert query\n",
    "insert_query = \"\"\"\n",
    "INSERT INTO Sales_table (`Order Number`, `Line Item`, `Order Date`, `CustomerKey`, `StoreKey`, `ProductKey`, `Quantity`, `Currency Code`) \n",
    "VALUES (%s, %s, %s, %s, %s, %s, %s, %s)\n",
    "\"\"\"\n",
    "\n",
    "# Iterate over the DataFrame and insert each row\n",
    "for index, row in Sales.iterrows():\n",
    "     cursor.execute(insert_query, (row['Order Number'], row['Line Item'], row['Order Date'], row['CustomerKey'], row['StoreKey'], row['ProductKey'], \n",
    "                                   row['Quantity'], row['Currency Code']))\n",
    "# Commit the transaction\n",
    "myconnection.commit()\n",
    "\n",
    "# Close the cursor and connection\n",
    "cursor.close()\n",
    "myconnection.close()\n",
    "    "
   ]
  },
  {
   "cell_type": "code",
   "execution_count": 16,
   "id": "398e97b2-0639-4d9d-a1f3-497c84d7db2b",
   "metadata": {},
   "outputs": [
    {
     "data": {
      "text/html": [
       "<div>\n",
       "<style scoped>\n",
       "    .dataframe tbody tr th:only-of-type {\n",
       "        vertical-align: middle;\n",
       "    }\n",
       "\n",
       "    .dataframe tbody tr th {\n",
       "        vertical-align: top;\n",
       "    }\n",
       "\n",
       "    .dataframe thead th {\n",
       "        text-align: right;\n",
       "    }\n",
       "</style>\n",
       "<table border=\"1\" class=\"dataframe\">\n",
       "  <thead>\n",
       "    <tr style=\"text-align: right;\">\n",
       "      <th></th>\n",
       "      <th>ProductKey</th>\n",
       "      <th>Product Name</th>\n",
       "      <th>Brand</th>\n",
       "      <th>Color</th>\n",
       "      <th>Unit Cost USD</th>\n",
       "      <th>Unit Price USD</th>\n",
       "      <th>SubcategoryKey</th>\n",
       "      <th>Subcategory</th>\n",
       "      <th>CategoryKey</th>\n",
       "      <th>Category</th>\n",
       "    </tr>\n",
       "  </thead>\n",
       "  <tbody>\n",
       "    <tr>\n",
       "      <th>0</th>\n",
       "      <td>1</td>\n",
       "      <td>Contoso 512MB MP3 Player E51 Silver</td>\n",
       "      <td>Contoso</td>\n",
       "      <td>Silver</td>\n",
       "      <td>$6.62</td>\n",
       "      <td>$12.99</td>\n",
       "      <td>101</td>\n",
       "      <td>MP4&amp;MP3</td>\n",
       "      <td>1</td>\n",
       "      <td>Audio</td>\n",
       "    </tr>\n",
       "    <tr>\n",
       "      <th>1</th>\n",
       "      <td>2</td>\n",
       "      <td>Contoso 512MB MP3 Player E51 Blue</td>\n",
       "      <td>Contoso</td>\n",
       "      <td>Blue</td>\n",
       "      <td>$6.62</td>\n",
       "      <td>$12.99</td>\n",
       "      <td>101</td>\n",
       "      <td>MP4&amp;MP3</td>\n",
       "      <td>1</td>\n",
       "      <td>Audio</td>\n",
       "    </tr>\n",
       "    <tr>\n",
       "      <th>2</th>\n",
       "      <td>3</td>\n",
       "      <td>Contoso 1G MP3 Player E100 White</td>\n",
       "      <td>Contoso</td>\n",
       "      <td>White</td>\n",
       "      <td>$7.40</td>\n",
       "      <td>$14.52</td>\n",
       "      <td>101</td>\n",
       "      <td>MP4&amp;MP3</td>\n",
       "      <td>1</td>\n",
       "      <td>Audio</td>\n",
       "    </tr>\n",
       "    <tr>\n",
       "      <th>3</th>\n",
       "      <td>4</td>\n",
       "      <td>Contoso 2G MP3 Player E200 Silver</td>\n",
       "      <td>Contoso</td>\n",
       "      <td>Silver</td>\n",
       "      <td>$11.00</td>\n",
       "      <td>$21.57</td>\n",
       "      <td>101</td>\n",
       "      <td>MP4&amp;MP3</td>\n",
       "      <td>1</td>\n",
       "      <td>Audio</td>\n",
       "    </tr>\n",
       "    <tr>\n",
       "      <th>4</th>\n",
       "      <td>5</td>\n",
       "      <td>Contoso 2G MP3 Player E200 Red</td>\n",
       "      <td>Contoso</td>\n",
       "      <td>Red</td>\n",
       "      <td>$11.00</td>\n",
       "      <td>$21.57</td>\n",
       "      <td>101</td>\n",
       "      <td>MP4&amp;MP3</td>\n",
       "      <td>1</td>\n",
       "      <td>Audio</td>\n",
       "    </tr>\n",
       "  </tbody>\n",
       "</table>\n",
       "</div>"
      ],
      "text/plain": [
       "   ProductKey                         Product Name    Brand   Color  \\\n",
       "0           1  Contoso 512MB MP3 Player E51 Silver  Contoso  Silver   \n",
       "1           2    Contoso 512MB MP3 Player E51 Blue  Contoso    Blue   \n",
       "2           3     Contoso 1G MP3 Player E100 White  Contoso   White   \n",
       "3           4    Contoso 2G MP3 Player E200 Silver  Contoso  Silver   \n",
       "4           5       Contoso 2G MP3 Player E200 Red  Contoso     Red   \n",
       "\n",
       "  Unit Cost USD Unit Price USD  SubcategoryKey Subcategory  CategoryKey  \\\n",
       "0        $6.62         $12.99              101     MP4&MP3            1   \n",
       "1        $6.62         $12.99              101     MP4&MP3            1   \n",
       "2        $7.40         $14.52              101     MP4&MP3            1   \n",
       "3       $11.00         $21.57              101     MP4&MP3            1   \n",
       "4       $11.00         $21.57              101     MP4&MP3            1   \n",
       "\n",
       "  Category  \n",
       "0    Audio  \n",
       "1    Audio  \n",
       "2    Audio  \n",
       "3    Audio  \n",
       "4    Audio  "
      ]
     },
     "execution_count": 16,
     "metadata": {},
     "output_type": "execute_result"
    }
   ],
   "source": [
    "# Product Table\n",
    "Product=r\"C:\\Users\\Admin\\Downloads\\Products.csv\"\n",
    "Product=pd.read_csv(Product)\n",
    "Product.head()"
   ]
  },
  {
   "cell_type": "code",
   "execution_count": 17,
   "id": "9ce5826a-4bdb-4c27-8b85-e6d4a46ccb79",
   "metadata": {},
   "outputs": [
    {
     "data": {
      "text/plain": [
       "ProductKey        0\n",
       "Product Name      0\n",
       "Brand             0\n",
       "Color             0\n",
       "Unit Cost USD     0\n",
       "Unit Price USD    0\n",
       "SubcategoryKey    0\n",
       "Subcategory       0\n",
       "CategoryKey       0\n",
       "Category          0\n",
       "dtype: int64"
      ]
     },
     "execution_count": 17,
     "metadata": {},
     "output_type": "execute_result"
    }
   ],
   "source": [
    "Product.isnull().sum()"
   ]
  },
  {
   "cell_type": "code",
   "execution_count": 19,
   "id": "7b98b536-e9fa-4a2a-910d-0e06fbd985b5",
   "metadata": {},
   "outputs": [
    {
     "data": {
      "text/plain": [
       "0"
      ]
     },
     "execution_count": 19,
     "metadata": {},
     "output_type": "execute_result"
    }
   ],
   "source": [
    "Product.duplicated().sum()"
   ]
  },
  {
   "cell_type": "code",
   "execution_count": 20,
   "id": "842db87e-3f0d-4a75-9710-a059e3ff7d86",
   "metadata": {},
   "outputs": [
    {
     "name": "stdout",
     "output_type": "stream",
     "text": [
      "<class 'pandas.core.frame.DataFrame'>\n",
      "RangeIndex: 2517 entries, 0 to 2516\n",
      "Data columns (total 10 columns):\n",
      " #   Column          Non-Null Count  Dtype \n",
      "---  ------          --------------  ----- \n",
      " 0   ProductKey      2517 non-null   int64 \n",
      " 1   Product Name    2517 non-null   object\n",
      " 2   Brand           2517 non-null   object\n",
      " 3   Color           2517 non-null   object\n",
      " 4   Unit Cost USD   2517 non-null   object\n",
      " 5   Unit Price USD  2517 non-null   object\n",
      " 6   SubcategoryKey  2517 non-null   int64 \n",
      " 7   Subcategory     2517 non-null   object\n",
      " 8   CategoryKey     2517 non-null   int64 \n",
      " 9   Category        2517 non-null   object\n",
      "dtypes: int64(3), object(7)\n",
      "memory usage: 196.8+ KB\n"
     ]
    }
   ],
   "source": [
    "Product.info()"
   ]
  },
  {
   "cell_type": "code",
   "execution_count": 23,
   "id": "91ae0da9-6f22-4763-a528-1110a1883890",
   "metadata": {},
   "outputs": [],
   "source": [
    "Product['Unit Cost USD'] = Product['Unit Cost USD'].str.replace('$', '')\n",
    "Product['Unit Price USD'] = Product['Unit Price USD'].str.replace('$', '')\n",
    "Product['Unit Cost USD'] = Product['Unit Cost USD'].str.replace(',', '').str.strip().astype(float)\n",
    "Product['Unit Price USD'] = Product['Unit Price USD'].str.replace(',', '').str.strip().astype(float)\n"
   ]
  },
  {
   "cell_type": "code",
   "execution_count": 26,
   "id": "62957f22-2df6-4959-9539-30cfcc834552",
   "metadata": {},
   "outputs": [
    {
     "data": {
      "text/html": [
       "<div>\n",
       "<style scoped>\n",
       "    .dataframe tbody tr th:only-of-type {\n",
       "        vertical-align: middle;\n",
       "    }\n",
       "\n",
       "    .dataframe tbody tr th {\n",
       "        vertical-align: top;\n",
       "    }\n",
       "\n",
       "    .dataframe thead th {\n",
       "        text-align: right;\n",
       "    }\n",
       "</style>\n",
       "<table border=\"1\" class=\"dataframe\">\n",
       "  <thead>\n",
       "    <tr style=\"text-align: right;\">\n",
       "      <th></th>\n",
       "      <th>ProductKey</th>\n",
       "      <th>Product Name</th>\n",
       "      <th>Brand</th>\n",
       "      <th>Color</th>\n",
       "      <th>Unit Cost USD</th>\n",
       "      <th>Unit Price USD</th>\n",
       "      <th>SubcategoryKey</th>\n",
       "      <th>Subcategory</th>\n",
       "      <th>CategoryKey</th>\n",
       "      <th>Category</th>\n",
       "    </tr>\n",
       "  </thead>\n",
       "  <tbody>\n",
       "    <tr>\n",
       "      <th>0</th>\n",
       "      <td>1</td>\n",
       "      <td>Contoso 512MB MP3 Player E51 Silver</td>\n",
       "      <td>Contoso</td>\n",
       "      <td>Silver</td>\n",
       "      <td>6.62</td>\n",
       "      <td>12.99</td>\n",
       "      <td>101</td>\n",
       "      <td>MP4&amp;MP3</td>\n",
       "      <td>1</td>\n",
       "      <td>Audio</td>\n",
       "    </tr>\n",
       "    <tr>\n",
       "      <th>1</th>\n",
       "      <td>2</td>\n",
       "      <td>Contoso 512MB MP3 Player E51 Blue</td>\n",
       "      <td>Contoso</td>\n",
       "      <td>Blue</td>\n",
       "      <td>6.62</td>\n",
       "      <td>12.99</td>\n",
       "      <td>101</td>\n",
       "      <td>MP4&amp;MP3</td>\n",
       "      <td>1</td>\n",
       "      <td>Audio</td>\n",
       "    </tr>\n",
       "    <tr>\n",
       "      <th>2</th>\n",
       "      <td>3</td>\n",
       "      <td>Contoso 1G MP3 Player E100 White</td>\n",
       "      <td>Contoso</td>\n",
       "      <td>White</td>\n",
       "      <td>7.40</td>\n",
       "      <td>14.52</td>\n",
       "      <td>101</td>\n",
       "      <td>MP4&amp;MP3</td>\n",
       "      <td>1</td>\n",
       "      <td>Audio</td>\n",
       "    </tr>\n",
       "    <tr>\n",
       "      <th>3</th>\n",
       "      <td>4</td>\n",
       "      <td>Contoso 2G MP3 Player E200 Silver</td>\n",
       "      <td>Contoso</td>\n",
       "      <td>Silver</td>\n",
       "      <td>11.00</td>\n",
       "      <td>21.57</td>\n",
       "      <td>101</td>\n",
       "      <td>MP4&amp;MP3</td>\n",
       "      <td>1</td>\n",
       "      <td>Audio</td>\n",
       "    </tr>\n",
       "    <tr>\n",
       "      <th>4</th>\n",
       "      <td>5</td>\n",
       "      <td>Contoso 2G MP3 Player E200 Red</td>\n",
       "      <td>Contoso</td>\n",
       "      <td>Red</td>\n",
       "      <td>11.00</td>\n",
       "      <td>21.57</td>\n",
       "      <td>101</td>\n",
       "      <td>MP4&amp;MP3</td>\n",
       "      <td>1</td>\n",
       "      <td>Audio</td>\n",
       "    </tr>\n",
       "  </tbody>\n",
       "</table>\n",
       "</div>"
      ],
      "text/plain": [
       "   ProductKey                         Product Name    Brand   Color  \\\n",
       "0           1  Contoso 512MB MP3 Player E51 Silver  Contoso  Silver   \n",
       "1           2    Contoso 512MB MP3 Player E51 Blue  Contoso    Blue   \n",
       "2           3     Contoso 1G MP3 Player E100 White  Contoso   White   \n",
       "3           4    Contoso 2G MP3 Player E200 Silver  Contoso  Silver   \n",
       "4           5       Contoso 2G MP3 Player E200 Red  Contoso     Red   \n",
       "\n",
       "   Unit Cost USD  Unit Price USD  SubcategoryKey Subcategory  CategoryKey  \\\n",
       "0           6.62           12.99             101     MP4&MP3            1   \n",
       "1           6.62           12.99             101     MP4&MP3            1   \n",
       "2           7.40           14.52             101     MP4&MP3            1   \n",
       "3          11.00           21.57             101     MP4&MP3            1   \n",
       "4          11.00           21.57             101     MP4&MP3            1   \n",
       "\n",
       "  Category  \n",
       "0    Audio  \n",
       "1    Audio  \n",
       "2    Audio  \n",
       "3    Audio  \n",
       "4    Audio  "
      ]
     },
     "execution_count": 26,
     "metadata": {},
     "output_type": "execute_result"
    }
   ],
   "source": [
    "Product.head()"
   ]
  },
  {
   "cell_type": "code",
   "execution_count": 25,
   "id": "e6a609a3-1029-4a1c-a042-d3ae398bd1c8",
   "metadata": {},
   "outputs": [
    {
     "name": "stdout",
     "output_type": "stream",
     "text": [
      "<class 'pandas.core.frame.DataFrame'>\n",
      "RangeIndex: 2517 entries, 0 to 2516\n",
      "Data columns (total 10 columns):\n",
      " #   Column          Non-Null Count  Dtype  \n",
      "---  ------          --------------  -----  \n",
      " 0   ProductKey      2517 non-null   int64  \n",
      " 1   Product Name    2517 non-null   object \n",
      " 2   Brand           2517 non-null   object \n",
      " 3   Color           2517 non-null   object \n",
      " 4   Unit Cost USD   2517 non-null   float64\n",
      " 5   Unit Price USD  2517 non-null   float64\n",
      " 6   SubcategoryKey  2517 non-null   int64  \n",
      " 7   Subcategory     2517 non-null   object \n",
      " 8   CategoryKey     2517 non-null   int64  \n",
      " 9   Category        2517 non-null   object \n",
      "dtypes: float64(2), int64(3), object(5)\n",
      "memory usage: 196.8+ KB\n"
     ]
    }
   ],
   "source": [
    "Product.info()"
   ]
  },
  {
   "cell_type": "code",
   "execution_count": 27,
   "id": "8a39ffbc-ee77-4986-acd5-02bdfd86350b",
   "metadata": {},
   "outputs": [],
   "source": [
    "# convert my cleaned data into dataframe\n",
    "Product=pd.DataFrame(Product)\n",
    "Product.to_csv(\"Product_table\",index=False)\n",
    "Product=pd.read_csv(\"Product_table\")"
   ]
  },
  {
   "cell_type": "code",
   "execution_count": 28,
   "id": "275538c0-4d17-4a28-8d4b-9d8e1879c8d6",
   "metadata": {},
   "outputs": [
    {
     "name": "stdout",
     "output_type": "stream",
     "text": [
      "<class 'pandas.core.frame.DataFrame'>\n",
      "RangeIndex: 2517 entries, 0 to 2516\n",
      "Data columns (total 10 columns):\n",
      " #   Column          Non-Null Count  Dtype  \n",
      "---  ------          --------------  -----  \n",
      " 0   ProductKey      2517 non-null   int64  \n",
      " 1   Product Name    2517 non-null   object \n",
      " 2   Brand           2517 non-null   object \n",
      " 3   Color           2517 non-null   object \n",
      " 4   Unit Cost USD   2517 non-null   float64\n",
      " 5   Unit Price USD  2517 non-null   float64\n",
      " 6   SubcategoryKey  2517 non-null   int64  \n",
      " 7   Subcategory     2517 non-null   object \n",
      " 8   CategoryKey     2517 non-null   int64  \n",
      " 9   Category        2517 non-null   object \n",
      "dtypes: float64(2), int64(3), object(5)\n",
      "memory usage: 196.8+ KB\n"
     ]
    }
   ],
   "source": [
    "Product.info()"
   ]
  },
  {
   "cell_type": "code",
   "execution_count": 35,
   "id": "ae37d45d-17bb-4cbd-9881-94972de07ebe",
   "metadata": {},
   "outputs": [
    {
     "name": "stdout",
     "output_type": "stream",
     "text": [
      "`ProductKey` int,`Product Name` text,`Brand` text,`Color` text,`Unit Cost USD` int,`Unit Price USD` int,`SubcategoryKey` int,`Subcategory` text,`CategoryKey` int,`Category` text\n"
     ]
    },
    {
     "data": {
      "text/plain": [
       "0"
      ]
     },
     "execution_count": 35,
     "metadata": {},
     "output_type": "execute_result"
    }
   ],
   "source": [
    "import pymysql\n",
    "myconnection=pymysql.connect(host=\"127.0.0.1\",user=\"root\",passwd=\"Farvez@12345\")\n",
    "c = \",\".join(f\"`{i}` {j}\"  # Enclose column names with backticks\n",
    "             for i, j in zip(Product.columns, Product.dtypes)\n",
    "             ).replace(\"object\", \"text\").replace(\"int64\", \"int\").replace(\"float64\",\"int\")\n",
    "#c = \"id INT AUTO_INCREMENT PRIMARY KEY,\" + c\n",
    "\n",
    "# Print the generated SQL statement\n",
    "print(c)\n",
    "\n",
    "# Execute the SQL query to create the table\n",
    "myconnection.cursor().execute(f\"CREATE TABLE Data_Spark.Product_table ({c})\")"
   ]
  },
  {
   "cell_type": "code",
   "execution_count": 36,
   "id": "c58bfcc3-c150-4fcc-a70e-bcf5c7672bbb",
   "metadata": {},
   "outputs": [],
   "source": [
    "import pymysql\n",
    "\n",
    "# Establish the database connection\n",
    "myconnection = pymysql.connect(host=\"127.0.0.1\", user=\"root\", passwd=\"Farvez@12345\", database=\"Data_Spark\")\n",
    "\n",
    "# Create a cursor object\n",
    "cursor = myconnection.cursor()\n",
    "\n",
    "# Define the insert query\n",
    "insert_query = \"\"\"\n",
    "INSERT INTO product_table (`ProductKey`, `Product Name`, `Brand`, `Color`, `Unit Cost USD`, `Unit Price USD`, `SubcategoryKey`, `Subcategory`, `CategoryKey`, `Category`) \n",
    "VALUES (%s, %s, %s, %s, %s, %s, %s, %s, %s, %s)\n",
    "\"\"\"\n",
    "\n",
    "# Iterate over the DataFrame and insert each row\n",
    "for index, row in Product.iterrows():\n",
    "     cursor.execute(insert_query, (row['ProductKey'], row['Product Name'], row['Brand'], row['Color'], row['Unit Cost USD'], row['Unit Price USD'], \n",
    "                                   row['SubcategoryKey'], row['Subcategory'], row['CategoryKey'], row['Category']))\n",
    "# Commit the transaction\n",
    "myconnection.commit()\n",
    "\n",
    "# Close the cursor and connection\n",
    "cursor.close()\n",
    "myconnection.close()"
   ]
  },
  {
   "cell_type": "code",
   "execution_count": 49,
   "id": "1dd0d9f5-7b83-47cd-9798-01cebf64bc35",
   "metadata": {},
   "outputs": [
    {
     "data": {
      "text/html": [
       "<div>\n",
       "<style scoped>\n",
       "    .dataframe tbody tr th:only-of-type {\n",
       "        vertical-align: middle;\n",
       "    }\n",
       "\n",
       "    .dataframe tbody tr th {\n",
       "        vertical-align: top;\n",
       "    }\n",
       "\n",
       "    .dataframe thead th {\n",
       "        text-align: right;\n",
       "    }\n",
       "</style>\n",
       "<table border=\"1\" class=\"dataframe\">\n",
       "  <thead>\n",
       "    <tr style=\"text-align: right;\">\n",
       "      <th></th>\n",
       "      <th>StoreKey</th>\n",
       "      <th>Country</th>\n",
       "      <th>State</th>\n",
       "      <th>Square Meters</th>\n",
       "      <th>Open Date</th>\n",
       "    </tr>\n",
       "  </thead>\n",
       "  <tbody>\n",
       "    <tr>\n",
       "      <th>0</th>\n",
       "      <td>1</td>\n",
       "      <td>Australia</td>\n",
       "      <td>Australian Capital Territory</td>\n",
       "      <td>595.0</td>\n",
       "      <td>1/1/2008</td>\n",
       "    </tr>\n",
       "    <tr>\n",
       "      <th>1</th>\n",
       "      <td>2</td>\n",
       "      <td>Australia</td>\n",
       "      <td>Northern Territory</td>\n",
       "      <td>665.0</td>\n",
       "      <td>1/12/2008</td>\n",
       "    </tr>\n",
       "    <tr>\n",
       "      <th>2</th>\n",
       "      <td>3</td>\n",
       "      <td>Australia</td>\n",
       "      <td>South Australia</td>\n",
       "      <td>2000.0</td>\n",
       "      <td>1/7/2012</td>\n",
       "    </tr>\n",
       "    <tr>\n",
       "      <th>3</th>\n",
       "      <td>4</td>\n",
       "      <td>Australia</td>\n",
       "      <td>Tasmania</td>\n",
       "      <td>2000.0</td>\n",
       "      <td>1/1/2010</td>\n",
       "    </tr>\n",
       "    <tr>\n",
       "      <th>4</th>\n",
       "      <td>5</td>\n",
       "      <td>Australia</td>\n",
       "      <td>Victoria</td>\n",
       "      <td>2000.0</td>\n",
       "      <td>12/9/2015</td>\n",
       "    </tr>\n",
       "  </tbody>\n",
       "</table>\n",
       "</div>"
      ],
      "text/plain": [
       "   StoreKey    Country                         State  Square Meters  Open Date\n",
       "0         1  Australia  Australian Capital Territory          595.0   1/1/2008\n",
       "1         2  Australia            Northern Territory          665.0  1/12/2008\n",
       "2         3  Australia               South Australia         2000.0   1/7/2012\n",
       "3         4  Australia                      Tasmania         2000.0   1/1/2010\n",
       "4         5  Australia                      Victoria         2000.0  12/9/2015"
      ]
     },
     "execution_count": 49,
     "metadata": {},
     "output_type": "execute_result"
    }
   ],
   "source": [
    "Store=r\"C:\\Users\\Admin\\Downloads\\Stores.csv\"\n",
    "Store=pd.read_csv(Store)\n",
    "Store.head()"
   ]
  },
  {
   "cell_type": "code",
   "execution_count": 50,
   "id": "7c967de3-a2dc-4d3c-8508-5381f12e05af",
   "metadata": {},
   "outputs": [
    {
     "data": {
      "text/plain": [
       "StoreKey         0\n",
       "Country          0\n",
       "State            0\n",
       "Square Meters    1\n",
       "Open Date        0\n",
       "dtype: int64"
      ]
     },
     "execution_count": 50,
     "metadata": {},
     "output_type": "execute_result"
    }
   ],
   "source": [
    "Store.isnull().sum()"
   ]
  },
  {
   "cell_type": "code",
   "execution_count": 51,
   "id": "a81c8d63-1ea9-4af6-af78-43f3e6cfdad2",
   "metadata": {},
   "outputs": [
    {
     "name": "stdout",
     "output_type": "stream",
     "text": [
      "    StoreKey Country   State  Square Meters Open Date\n",
      "66         0  Online  Online            NaN  1/1/2010\n"
     ]
    }
   ],
   "source": [
    "print(Store[Store.isnull().any(axis=1)])"
   ]
  },
  {
   "cell_type": "code",
   "execution_count": 65,
   "id": "dd2f79e2-672e-46ef-b0f0-6eed08111f34",
   "metadata": {},
   "outputs": [],
   "source": [
    "Store.drop(index=66,axis=1,inplace=True)"
   ]
  },
  {
   "cell_type": "code",
   "execution_count": 66,
   "id": "002ac987-352f-42c5-a1f1-83c84823ca0a",
   "metadata": {},
   "outputs": [
    {
     "name": "stdout",
     "output_type": "stream",
     "text": [
      "<class 'pandas.core.frame.DataFrame'>\n",
      "RangeIndex: 66 entries, 0 to 65\n",
      "Data columns (total 5 columns):\n",
      " #   Column         Non-Null Count  Dtype         \n",
      "---  ------         --------------  -----         \n",
      " 0   StoreKey       66 non-null     int64         \n",
      " 1   Country        66 non-null     object        \n",
      " 2   State          66 non-null     object        \n",
      " 3   Square Meters  66 non-null     float64       \n",
      " 4   Open Date      66 non-null     datetime64[ns]\n",
      "dtypes: datetime64[ns](1), float64(1), int64(1), object(2)\n",
      "memory usage: 2.7+ KB\n"
     ]
    }
   ],
   "source": [
    "Store.info()"
   ]
  },
  {
   "cell_type": "code",
   "execution_count": 58,
   "id": "9bf5ba11-7924-4652-97f1-11c357ccd670",
   "metadata": {},
   "outputs": [],
   "source": [
    "Store['Open Date']=pd.to_datetime(Store['Open Date'])\n",
    "Store['Square Meters']=Store['Square Meters'].astype(float)"
   ]
  },
  {
   "cell_type": "code",
   "execution_count": 55,
   "id": "6880714f-6320-4e24-a68a-fc2bd4ab8805",
   "metadata": {},
   "outputs": [
    {
     "name": "stdout",
     "output_type": "stream",
     "text": [
      "<class 'pandas.core.frame.DataFrame'>\n",
      "RangeIndex: 67 entries, 0 to 66\n",
      "Data columns (total 5 columns):\n",
      " #   Column         Non-Null Count  Dtype         \n",
      "---  ------         --------------  -----         \n",
      " 0   StoreKey       67 non-null     int64         \n",
      " 1   Country        67 non-null     object        \n",
      " 2   State          67 non-null     object        \n",
      " 3   Square Meters  66 non-null     float64       \n",
      " 4   Open Date      67 non-null     datetime64[ns]\n",
      "dtypes: datetime64[ns](1), float64(1), int64(1), object(2)\n",
      "memory usage: 2.7+ KB\n"
     ]
    }
   ],
   "source": [
    "Store.info()"
   ]
  },
  {
   "cell_type": "code",
   "execution_count": 67,
   "id": "f7fa95a8-8ce6-4ea4-8d6b-a1ca079d08d5",
   "metadata": {},
   "outputs": [],
   "source": [
    "Store=pd.DataFrame(Store)\n",
    "Store.to_csv(\"Store_table\",index=False)\n",
    "Store=pd.read_csv(\"Store_table\")"
   ]
  },
  {
   "cell_type": "code",
   "execution_count": 59,
   "id": "6d96bcdc-6d88-44fe-ac4e-67d028a1ab3e",
   "metadata": {},
   "outputs": [
    {
     "name": "stdout",
     "output_type": "stream",
     "text": [
      "<class 'pandas.core.frame.DataFrame'>\n",
      "RangeIndex: 67 entries, 0 to 66\n",
      "Data columns (total 5 columns):\n",
      " #   Column         Non-Null Count  Dtype         \n",
      "---  ------         --------------  -----         \n",
      " 0   StoreKey       67 non-null     int64         \n",
      " 1   Country        67 non-null     object        \n",
      " 2   State          67 non-null     object        \n",
      " 3   Square Meters  66 non-null     float64       \n",
      " 4   Open Date      67 non-null     datetime64[ns]\n",
      "dtypes: datetime64[ns](1), float64(1), int64(1), object(2)\n",
      "memory usage: 2.7+ KB\n"
     ]
    }
   ],
   "source": [
    "Store.info()"
   ]
  },
  {
   "cell_type": "code",
   "execution_count": 68,
   "id": "37d84575-bc71-4eb4-a60d-c2f2b14a6588",
   "metadata": {},
   "outputs": [
    {
     "data": {
      "text/plain": [
       "StoreKey         0\n",
       "Country          0\n",
       "State            0\n",
       "Square Meters    0\n",
       "Open Date        0\n",
       "dtype: int64"
      ]
     },
     "execution_count": 68,
     "metadata": {},
     "output_type": "execute_result"
    }
   ],
   "source": [
    "Store.isnull().sum()"
   ]
  },
  {
   "cell_type": "code",
   "execution_count": 61,
   "id": "455d86ca-814b-4316-8c57-9d1b64ca9c89",
   "metadata": {},
   "outputs": [
    {
     "name": "stdout",
     "output_type": "stream",
     "text": [
      "`StoreKey` int,`Country` text,`State` text,`Square Meters` int,`Open Date` date\n"
     ]
    },
    {
     "data": {
      "text/plain": [
       "0"
      ]
     },
     "execution_count": 61,
     "metadata": {},
     "output_type": "execute_result"
    }
   ],
   "source": [
    "import pymysql\n",
    "myconnection=pymysql.connect(host=\"127.0.0.1\",user=\"root\",passwd=\"Farvez@12345\")\n",
    "d = \",\".join(f\"`{i}` {j}\"  # Enclose column names with backticks\n",
    "             for i, j in zip(Store.columns, Store.dtypes)\n",
    "             ).replace(\"object\", \"text\").replace(\"int64\", \"int\").replace(\"float64\",\"int\").replace(\"datetime64[ns]\",\"date\")\n",
    "#c = \"id INT AUTO_INCREMENT PRIMARY KEY,\" + c\n",
    "\n",
    "# Print the generated SQL statement\n",
    "print(d)\n",
    "\n",
    "# Execute the SQL query to create the table\n",
    "myconnection.cursor().execute(f\"CREATE TABLE Data_Spark.store_table ({d})\")"
   ]
  },
  {
   "cell_type": "code",
   "execution_count": 69,
   "id": "bdd8197e-04dd-4302-b803-fb24670e756e",
   "metadata": {},
   "outputs": [],
   "source": [
    "import pymysql\n",
    "\n",
    "# Establish the database connection\n",
    "myconnection = pymysql.connect(host=\"127.0.0.1\", user=\"root\", passwd=\"Farvez@12345\", database=\"Data_Spark\")\n",
    "\n",
    "# Create a cursor object\n",
    "cursor = myconnection.cursor()\n",
    "\n",
    "# Define the insert query\n",
    "insert_query = \"\"\"\n",
    "INSERT INTO store_table (`StoreKey`, `Country`, `State`, `Square Meters`, `Open Date`) \n",
    "VALUES (%s, %s, %s, %s, %s)\n",
    "\"\"\"\n",
    "\n",
    "# Iterate over the DataFrame and insert each row\n",
    "for index, row in Store.iterrows():\n",
    "     cursor.execute(insert_query, (row['StoreKey'], row['Country'], row['State'], row['Square Meters'], row['Open Date']))\n",
    "# Commit the transaction\n",
    "myconnection.commit()\n",
    "\n",
    "# Close the cursor and connection\n",
    "cursor.close()\n",
    "myconnection.close()"
   ]
  },
  {
   "cell_type": "code",
   "execution_count": null,
   "id": "b9d00baf-5453-4fa8-95a7-ad8684bf6472",
   "metadata": {},
   "outputs": [],
   "source": []
  }
 ],
 "metadata": {
  "kernelspec": {
   "display_name": "Python 3 (ipykernel)",
   "language": "python",
   "name": "python3"
  },
  "language_info": {
   "codemirror_mode": {
    "name": "ipython",
    "version": 3
   },
   "file_extension": ".py",
   "mimetype": "text/x-python",
   "name": "python",
   "nbconvert_exporter": "python",
   "pygments_lexer": "ipython3",
   "version": "3.12.1"
  }
 },
 "nbformat": 4,
 "nbformat_minor": 5
}
